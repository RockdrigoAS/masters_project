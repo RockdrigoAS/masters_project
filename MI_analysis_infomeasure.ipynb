{
  "nbformat": 4,
  "nbformat_minor": 0,
  "metadata": {
    "colab": {
      "provenance": []
    },
    "kernelspec": {
      "name": "python3",
      "display_name": "Python 3"
    },
    "language_info": {
      "name": "python"
    }
  },
  "cells": [
    {
      "cell_type": "code",
      "execution_count": null,
      "metadata": {
        "id": "L5oWeIYsJhHJ"
      },
      "outputs": [],
      "source": [
        "import numpy as np\n",
        "import matplotlib.pyplot as plt\n",
        "#!pip install infomeasure\n",
        "import infomeasure as im\n",
        "from sklearn.preprocessing import KBinsDiscretizer"
      ]
    },
    {
      "cell_type": "markdown",
      "source": [
        "Function to calculate the MI using infomeasure"
      ],
      "metadata": {
        "id": "dsz0bVYqOLiv"
      }
    },
    {
      "cell_type": "code",
      "source": [
        "def compute_MI(data, n_bins=5):\n",
        "  '''\n",
        "  Compute the MI matrices for all the pairs of channel in data using infomeasure\n",
        "  package and the Ordinal Estimator, _bins = number of boxes we use to discretize\n",
        "  the data,\n",
        "  '''\n",
        "  data = np.asarray(data) #convert to np array if not already\n",
        "  n_samples, n_channels = data.shape #assing depending on size\n",
        "  # To discretize the data:\n",
        "  discretizer = KBinsDiscretizer (n_bins=n_bins, encode='ordinal', strategy='uniform')\n",
        "  discretized_data = discretizer.fit_transform(data)\n",
        "\n",
        "  mi_matrix = np.zeros((n_channels, n_channels)) #initialized MI matrix\n",
        "\n",
        "  for i in range(n_channels):\n",
        "    for j in range(i+1, n_channels):\n",
        "      x = discretized_data[:,i]\n",
        "      y = discretized_data[:,j]\n",
        "\n",
        "      mi_value = im.mutual_information(x, y, approach='ordinal', embedding_dim=4)\n",
        "\n",
        "      mi_matrix[i,j] = mi_matrix[j,i] = mi_value\n",
        "  return mi_matrix"
      ],
      "metadata": {
        "id": "ZvChVpMwOK-_"
      },
      "execution_count": null,
      "outputs": []
    },
    {
      "cell_type": "markdown",
      "source": [
        "Function to calculate the Multi-variable mutual information"
      ],
      "metadata": {
        "id": "8ox-8kOOkiuT"
      }
    },
    {
      "cell_type": "code",
      "source": [
        "def compute_multivariableMI(data, n_bins=8):\n",
        "  '''\n",
        "  Compute the multi-variable mutual information\n",
        "  '''\n",
        "  data = np.asarray(data) #convert to np array if not already\n",
        "  n_samples, n_channels = data.shape #assing depending on size\n",
        "  # To discretize the data:\n",
        "  discretizer = KBinsDiscretizer (n_bins=n_bins, encode='ordinal', strategy='uniform')\n",
        "  discretized_data = discretizer.fit_transform(data)\n",
        "\n",
        "  # Calculate multivariable mutual information for all the channels\n",
        "  multi_mi = im.mutual_information(*[discretized_data[:, i] for i in range(n_channels)], approach='ordinal', embedding_dim=4)\n",
        "\n",
        "  return multi_mi"
      ],
      "metadata": {
        "id": "Ous_xgUiN6jO"
      },
      "execution_count": null,
      "outputs": []
    },
    {
      "cell_type": "markdown",
      "source": [
        "Load the data"
      ],
      "metadata": {
        "id": "2yJL6Prokpm5"
      }
    },
    {
      "cell_type": "code",
      "source": [
        "data = np.load('A338_PS2_clean_epochs.npy')\n",
        "print(f\"Data load, shape: {data.shape} (epoch, channels, samples)\")"
      ],
      "metadata": {
        "id": "VT-SlcR2kiHZ"
      },
      "execution_count": null,
      "outputs": []
    },
    {
      "cell_type": "markdown",
      "source": [
        "Main loop to analyze the epochs"
      ],
      "metadata": {
        "id": "Dt_TXmw9lbTF"
      }
    },
    {
      "cell_type": "code",
      "source": [
        "MI_matrices = []\n",
        "Multi_MI = []\n",
        "\n",
        "for i, epoch_data in enumerate(data):\n",
        "  segment_for_analysis = epoch_data.T\n",
        "  mi_mat = compute_MI(segment_for_analysis)\n",
        "  mmi_val = compute_multivariableMI(segment_for_analysis)\n",
        "\n",
        "  MI_matrices.append(mi_mat)\n",
        "  Multi_MI.append(mmi_val)\n",
        "\n",
        "print('Finish')\n"
      ],
      "metadata": {
        "id": "nilmxWoJlZ-i"
      },
      "execution_count": null,
      "outputs": []
    },
    {
      "cell_type": "markdown",
      "source": [
        "Visualization"
      ],
      "metadata": {
        "id": "h29UD8RgnGbh"
      }
    },
    {
      "cell_type": "markdown",
      "source": [
        "MI"
      ],
      "metadata": {
        "id": "g28Ekx5GnwTY"
      }
    },
    {
      "cell_type": "code",
      "source": [
        "plt.figure(figsize=(8, 6))\n",
        "plt.imshow(MI_matrices[0], origin='lower', cmap='viridis')\n",
        "plt.colorbar(label=\"Mutual information (bits)\")\n",
        "plt.title(f\"Mutual information matrix of first epoch\")\n",
        "plt.xlabel(\"Channel\")\n",
        "plt.ylabel(\"Channel\")\n",
        "plt.show()"
      ],
      "metadata": {
        "id": "sbREx2zlnIG2"
      },
      "execution_count": null,
      "outputs": []
    },
    {
      "cell_type": "markdown",
      "source": [
        "Multi-variable MI"
      ],
      "metadata": {
        "id": "UcrOgAGRnxZH"
      }
    },
    {
      "cell_type": "code",
      "source": [
        "plt.figure(figsize=(10, 5))\n",
        "plt.plot(range(len(Multi_MI)), Multi_MI, marker='o', linestyle='-')\n",
        "plt.title(\"A338 Multi-variable MI - Control condition\")\n",
        "plt.xlabel(\"Epoch\")\n",
        "plt.ylabel(\"Multi-variable MI (bits)\")\n",
        "plt.grid(True)\n",
        "plt.show()"
      ],
      "metadata": {
        "id": "nJDRiUd4nzhS"
      },
      "execution_count": null,
      "outputs": []
    }
  ]
}